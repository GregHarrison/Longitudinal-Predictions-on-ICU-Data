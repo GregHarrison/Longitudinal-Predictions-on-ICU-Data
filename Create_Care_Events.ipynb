{
 "cells": [
  {
   "cell_type": "code",
   "execution_count": null,
   "id": "c8c6e37c-fcdc-4bbd-9979-2259ac29bea6",
   "metadata": {},
   "outputs": [],
   "source": [
    "import pandas as pd\n",
    "import numpy as np\n",
    "import sklearn\n",
    "import concurrent.futures\n",
    "import matplotlib.pyplot as plt\n",
    "%matplotlib inline\n",
    "import seaborn as sns\n",
    "sns.set_style(\"whitegrid\")\n",
    "from datetime import datetime, timedelta\n",
    "from sklearn.preprocessing import MinMaxScaler\n",
    "from sklearn.manifold import TSNE\n",
    "from sklearn.metrics import roc_auc_score\n",
    "from sklearn.model_selection import StratifiedKFold\n",
    "import tensorflow as tf\n",
    "from tensorflow import keras\n",
    "from tensorflow.keras import layers\n",
    "from tensorflow.keras.models import Sequential, Model\n",
    "from tensorflow.keras.layers import Input, Dense, LSTM, Dropout, Conv1D, MaxPooling1D, Embedding\n",
    "from tensorflow.keras.preprocessing import sequence\n",
    "from tensorflow.keras.callbacks import EarlyStopping\n",
    "from tensorflow.keras import regularizers\n",
    "import pickle as pkl\n",
    "import h5py\n",
    "import time\n",
    "import gc"
   ]
  },
  {
   "cell_type": "code",
   "execution_count": null,
   "id": "e164cd02-22a0-401a-a4db-0b09ccd4579c",
   "metadata": {},
   "outputs": [],
   "source": [
    "RANDOM_STATE = 42"
   ]
  },
  {
   "cell_type": "code",
   "execution_count": 7,
   "id": "d3d9dca3-d260-4405-b264-3aaeb596ac94",
   "metadata": {},
   "outputs": [
    {
     "name": "stderr",
     "output_type": "stream",
     "text": [
      "C:\\Users\\Greg\\anaconda3\\envs\\mlenv\\lib\\threading.py:926: DtypeWarning: Columns (13) have mixed types.Specify dtype option on import or set low_memory=False.\n",
      "  self.run()\n",
      "C:\\Users\\Greg\\anaconda3\\envs\\mlenv\\lib\\threading.py:926: DtypeWarning: Columns (7,9,17,20,21) have mixed types.Specify dtype option on import or set low_memory=False.\n",
      "  self.run()\n"
     ]
    }
   ],
   "source": [
    "with concurrent.futures.ThreadPoolExecutor() as executor:\n",
    "    f1 = executor.submit(pd.read_csv, './Data/DATETIMEEVENTS.csv')\n",
    "    f2 = executor.submit(pd.read_csv, './Data/ICUSTAYS.csv')\n",
    "    f3 = executor.submit(pd.read_csv, './Data/INPUTEVENTS_CV.csv')\n",
    "    f4 = executor.submit(pd.read_csv, './Data/INPUTEVENTS_MV.csv')\n",
    "    f5 = executor.submit(pd.read_csv, './Data/LABEVENTS.csv')\n",
    "    f6 = executor.submit(pd.read_csv, './Data/PROCEDUREEVENTS_MV.csv')\n",
    "    f7 = executor.submit(pd.read_csv, './Data/SERVICES.csv')\n",
    "    f8 = executor.submit(pd.read_csv, './Data/ADMISSIONS.csv')\n",
    "    #f9 = executor.submit(pd.read_csv, './Data/CHARTEVENTS.csv')\n",
    "    f10 = executor.submit(pd.read_csv, './Data/D_ITEMS.csv')\n",
    "    f11 = executor.submit(pd.read_csv, './Data/PATIENTS.csv')\n",
    "    f12 = executor.submit(pd.read_csv, './Data/D_LABITEMS.csv')\n",
    "\n",
    "    date_time_events = f1.result()\n",
    "    icu_stays = f2.result()\n",
    "    input_events_cv = f3.result()\n",
    "    input_events_mv = f4.result()\n",
    "    lab_events = f5.result()\n",
    "    procedure_events = f6.result()\n",
    "    services = f7.result()\n",
    "    admissions = f8.result()\n",
    "    d_items = f10.result()\n",
    "    patients = f11.result()\n",
    "    d_labitems = f12.result()"
   ]
  },
  {
   "cell_type": "markdown",
   "id": "cd09c75b-05b8-4882-8dfb-cac988cfa3db",
   "metadata": {},
   "source": [
    "# Creating Care Events"
   ]
  },
  {
   "cell_type": "code",
   "execution_count": 4,
   "id": "17e23b3f-0029-46ba-b934-6e10b0d1d7fd",
   "metadata": {},
   "outputs": [],
   "source": [
    "events = pd.concat([input_events_cv[['ROW_ID', 'SUBJECT_ID', 'HADM_ID', 'CHARTTIME', 'ITEMID']].rename(columns={'CHARTTIME':'TIME'}), \n",
    "                    input_events_mv[['ROW_ID', 'SUBJECT_ID', 'HADM_ID', 'STARTTIME', 'ITEMID']].rename(columns={'STARTTIME':'TIME'}),\n",
    "                    lab_events[['ROW_ID', 'SUBJECT_ID', 'HADM_ID', 'CHARTTIME', 'ITEMID']].rename(columns={'CHARTTIME':'TIME', 'ITEMID':'LAB_ITEMID'}),\n",
    "                    date_time_events[['ROW_ID', 'SUBJECT_ID', 'HADM_ID', 'CHARTTIME', 'ITEMID']].rename(columns={'CHARTTIME':'TIME'}),\n",
    "                    procedure_events[['ROW_ID', 'SUBJECT_ID', 'HADM_ID', 'STARTTIME', 'ITEMID']].rename(columns={'STARTTIME':'TIME'})\n",
    "                   ])\n",
    "\n",
    "# Remove events with no HADM_ID\n",
    "events = events[events.HADM_ID.notna()]\n",
    "\n",
    "# Convert HADM_ID to int\n",
    "events.HADM_ID = events.HADM_ID.astype('int')\n",
    "\n",
    "# Convert events.TIME to datetime\n",
    "events.TIME = events.TIME.astype(np.datetime64)\n",
    "\n",
    "events = events.sort_values(by=['HADM_ID', 'TIME']).reset_index(drop=True)\n",
    "\n",
    "# Remove all duplicate times from each admission\n",
    "events_no_dups = events.copy().drop_duplicates()\n",
    "\n",
    "del input_events_cv\n",
    "del input_events_mv\n",
    "del lab_events\n",
    "del date_time_events\n",
    "del procedure_events\n",
    "\n",
    "gc.collect()"
   ]
  },
  {
   "cell_type": "markdown",
   "id": "af4fb1a5-a54e-402d-93ee-ac2f092b027c",
   "metadata": {},
   "source": [
    "### Convert events into encounters using code from https://github.com/EpistasisLab/MIMIC_trajectories/blob/master/Timing.ipynb."
   ]
  },
  {
   "cell_type": "code",
   "execution_count": 146,
   "id": "a2f814d1-6e2f-4e56-85a1-10124bbc8a59",
   "metadata": {
    "tags": []
   },
   "outputs": [
    {
     "name": "stdout",
     "output_type": "stream",
     "text": [
      "0\n",
      "1000\n",
      "2000\n",
      "3000\n",
      "4000\n",
      "5000\n",
      "6000\n",
      "7000\n",
      "8000\n",
      "9000\n",
      "10000\n",
      "11000\n",
      "12000\n",
      "13000\n",
      "14000\n",
      "15000\n",
      "16000\n",
      "17000\n",
      "18000\n",
      "19000\n",
      "20000\n",
      "21000\n",
      "22000\n",
      "23000\n",
      "24000\n",
      "25000\n",
      "26000\n",
      "27000\n",
      "28000\n",
      "29000\n",
      "30000\n",
      "31000\n",
      "32000\n",
      "33000\n",
      "34000\n",
      "35000\n",
      "36000\n",
      "37000\n",
      "38000\n",
      "39000\n",
      "40000\n",
      "41000\n",
      "42000\n",
      "43000\n",
      "44000\n",
      "45000\n",
      "46000\n",
      "47000\n",
      "48000\n",
      "49000\n",
      "50000\n",
      "51000\n",
      "52000\n",
      "53000\n",
      "54000\n",
      "55000\n",
      "56000\n",
      "57000\n",
      "58000\n",
      "4020925\n"
     ]
    }
   ],
   "source": [
    "unique_adms = events_no_dups.HADM_ID.unique()\n",
    "FMT = '%Y-%m-%d %H:%M:%S'\n",
    "delta_limit = timedelta(hours=0, minutes=59)\n",
    "\n",
    "eid=1\n",
    "encounters = []\n",
    "for i in range(len(unique_adms)):\n",
    "    id = unique_adms[i]\n",
    "    \n",
    "    if i % 1000 == 0:\n",
    "        print(i)\n",
    "    \n",
    "    adm_events = events_no_dups[events_no_dups['HADM_ID'] == id]['TIME']\n",
    "    \n",
    "    last_e = None\n",
    "    first_e = None\n",
    "    for e in adm_events:\n",
    "        if not first_e:\n",
    "            first_e = e\n",
    "        \n",
    "        if last_e:\n",
    "            tdelta = e - last_e\n",
    "            if tdelta > delta_limit:\n",
    "                encounters.append((eid, id, first_e, last_e))\n",
    "                eid += 1\n",
    "                first_e = None\n",
    "                last_e = None\n",
    "        last_e = e\n",
    "print(len(encounters))"
   ]
  },
  {
   "cell_type": "code",
   "execution_count": 147,
   "id": "db1ee5d1-a7a9-45e4-9624-383a9855e1d1",
   "metadata": {},
   "outputs": [],
   "source": [
    "encounters_df = pd.DataFrame(encounters, columns=['EID', 'HADM_ID', 'START_TIME', 'END_TIME'])\n",
    "encounters_array = np.array(encounters_df)\n",
    "\n",
    "# Convert start_time and end_time to datetime\n",
    "encounters_array[:,2:] = encounters_array[:,2:].astype(np.datetime64)"
   ]
  },
  {
   "cell_type": "code",
   "execution_count": 148,
   "id": "0ae1e58e-75f1-4f1b-93ba-234c8feed7bd",
   "metadata": {},
   "outputs": [],
   "source": [
    "#Ensure that start_event happend before end event\n",
    "for encounter in encounters_array:\n",
    "    if encounter[2] > encounter[3]:\n",
    "        temp = encounter[2]\n",
    "        encounter[2] = encounter[3]\n",
    "        encounter[3] = temp"
   ]
  },
  {
   "cell_type": "code",
   "execution_count": 149,
   "id": "042ddb9f-a061-4a98-ba6b-4d04498fdf30",
   "metadata": {},
   "outputs": [],
   "source": [
    "encounters_df = pd.DataFrame(encounters_array, columns=['EID', 'HADM_ID', 'START_TIME', 'END_TIME'])\n",
    "encounters_df[['EID', 'HADM_ID']] = encounters_df[['EID', 'HADM_ID']].astype('int')\n",
    "encounters_df[['START_TIME', 'END_TIME']] = encounters_df[['START_TIME', 'END_TIME']].astype(np.datetime64)\n",
    "encounters_df.to_csv('./Data/Processed/All_Data/encounters_table_full.csv', index=False)\n",
    "\n",
    "# Uncomment to read\n",
    "\"\"\"encounters_df = pd.read_csv('./Data/Processed/All_Data/encounters_table_full.csv')\n",
    "encounters_df[['EID', 'HADM_ID']] = encounters_df[['EID', 'HADM_ID']].astype('int')\n",
    "encounters_df[['START_TIME', 'END_TIME']] = encounters_df[['START_TIME', 'END_TIME']].astype(np.datetime64)\"\"\""
   ]
  },
  {
   "cell_type": "code",
   "execution_count": 7,
   "id": "086c6387-a8a9-498b-b2d4-03df03bcfd7a",
   "metadata": {},
   "outputs": [
    {
     "name": "stderr",
     "output_type": "stream",
     "text": [
      "C:\\Users\\Greg\\anaconda3\\envs\\mlenv\\lib\\site-packages\\ipykernel_launcher.py:5: SettingWithCopyWarning: \n",
      "A value is trying to be set on a copy of a slice from a DataFrame.\n",
      "Try using .loc[row_indexer,col_indexer] = value instead\n",
      "\n",
      "See the caveats in the documentation: https://pandas.pydata.org/pandas-docs/stable/user_guide/indexing.html#returning-a-view-versus-a-copy\n",
      "  \"\"\"\n"
     ]
    }
   ],
   "source": [
    "# Drop rows in events that do not have encounter IDs in encounters_df\n",
    "events = events[events.HADM_ID.isin(encounters_df.HADM_ID.unique())]\n",
    "\n",
    "# Initialize encounter ID column in events dataframe\n",
    "events['EID'] = np.nan"
   ]
  },
  {
   "cell_type": "code",
   "execution_count": 10,
   "id": "974ce44d-966a-4ff9-9d77-938d14a57089",
   "metadata": {},
   "outputs": [],
   "source": [
    "def get_encounter_id(admission):\n",
    "    temp_enctrs = encounters_df[encounters_df.HADM_ID == admission.HADM_ID.unique()[0]].reset_index()\n",
    "    temp_events = admission.reset_index()\n",
    "    \n",
    "    # Create an array of length equal to length of encounters. The value in each index of the array\n",
    "    # corresponds to first index in the events dataframe where the encounter_id associated with the encounter \n",
    "    # should be located\n",
    "    start_idx = np.searchsorted(temp_events.TIME, temp_enctrs.START_TIME, side='left')\n",
    "\n",
    "    # Create an array of length equal to length of encounters. The value in each index of the array\n",
    "    # corresponds to last index in the events dataframe where the encounter_id associated with the encounter \n",
    "    # should be located\n",
    "    end_idx = np.searchsorted(temp_events.TIME, temp_enctrs.END_TIME, side='right') - 1\n",
    "    \n",
    "    # Loop through each encounter ID and assign it to the appropriate columns in temp_events\n",
    "    for i in range(len(temp_enctrs)):\n",
    "        temp_events.loc[start_idx[i]:end_idx[i], 'EID'] = temp_enctrs.EID[i]\n",
    "    \n",
    "    return temp_events"
   ]
  },
  {
   "cell_type": "code",
   "execution_count": 15,
   "id": "e37efbb2-87ce-4281-8f17-b13725caafe5",
   "metadata": {
    "tags": []
   },
   "outputs": [
    {
     "name": "stdout",
     "output_type": "stream",
     "text": [
      "1344.6273498535156\n"
     ]
    }
   ],
   "source": [
    "start = time.time()\n",
    "events = events.groupby('HADM_ID').apply(get_encounter_id)\n",
    "events = events.set_index('index')\n",
    "print(time.time() - start)"
   ]
  },
  {
   "cell_type": "code",
   "execution_count": 3,
   "id": "5d2761ab-6f56-4b52-98aa-9343fe16a3b8",
   "metadata": {},
   "outputs": [],
   "source": [
    "#events.to_csv('./Data/Processed/All_Data/events.csv', index=False) # uncomment to save to csv\n",
    "events = pd.read_csv('./Data/Processed/All_Data/events.csv')"
   ]
  },
  {
   "cell_type": "code",
   "execution_count": 5,
   "id": "6ee2fc8b-8767-4212-938b-54d4099ec4f5",
   "metadata": {},
   "outputs": [
    {
     "name": "stderr",
     "output_type": "stream",
     "text": [
      "C:\\Users\\Greg\\anaconda3\\envs\\mlenv\\lib\\site-packages\\ipykernel_launcher.py:5: SettingWithCopyWarning: \n",
      "A value is trying to be set on a copy of a slice from a DataFrame.\n",
      "Try using .loc[row_indexer,col_indexer] = value instead\n",
      "\n",
      "See the caveats in the documentation: https://pandas.pydata.org/pandas-docs/stable/user_guide/indexing.html#returning-a-view-versus-a-copy\n",
      "  \"\"\"\n"
     ]
    }
   ],
   "source": [
    "# Drop events with NaN Encounter ID\n",
    "events = events[events.EID.notna()]\n",
    "\n",
    "# Convert EID to integer\n",
    "events['EID'] = events['EID'].astype('int')"
   ]
  },
  {
   "cell_type": "code",
   "execution_count": 14,
   "id": "5c3f39ca-45c4-4733-a8fc-e16fff1afd31",
   "metadata": {
    "tags": []
   },
   "outputs": [
    {
     "data": {
      "text/plain": [
       "17"
      ]
     },
     "execution_count": 14,
     "metadata": {},
     "output_type": "execute_result"
    }
   ],
   "source": [
    "# Merge care event with d_item to get item names\n",
    "if 'LABEL' not in events.columns:\n",
    "    events = pd.merge(events, d_items[['ITEMID', 'LABEL']], on='ITEMID', how='left')\n",
    "    events = pd.merge(events, d_labitems[['ITEMID', 'LABEL']], left_on='LAB_ITEMID', right_on='ITEMID', how='left')\n",
    "    events['LABEL'] = events['LABEL_x'].combine_first(events['LABEL_y'])\n",
    "    events['ITEMID'] = events['ITEMID_x'].combine_first(events['ITEMID_y'])\n",
    "    events = events.drop(columns=['LABEL_x', 'LABEL_y', 'ITEMID_x', 'ITEMID_y', 'LAB_ITEMID'])\n",
    "    \n",
    "# Merge with ADMISSIONS\n",
    "if 'ADMITTIME' and 'INSURANCE' and 'ETHNICITY' not in events.columns:\n",
    "    events = pd.merge(events, admissions[['HADM_ID', 'ADMITTIME', 'INSURANCE', 'ETHNICITY']], on='HADM_ID', how='left')\n",
    "    \n",
    "# Merge with PATIENTS\n",
    "if 'GENDER' and 'DOB' and 'DOD' not in events.columns:\n",
    "    events = pd.merge(events, patients[['SUBJECT_ID', 'GENDER', 'DOB', 'DOD']], on='SUBJECT_ID', how='left')\n",
    "    \n",
    "del d_items, d_labitems, admissions, patients\n",
    "gc.collect()"
   ]
  },
  {
   "cell_type": "code",
   "execution_count": 15,
   "id": "e6badd0b-11b6-49d1-b37e-b2888b6c6ed6",
   "metadata": {},
   "outputs": [
    {
     "data": {
      "text/plain": [
       "'e2 = events[events.SUBJECT_ID.isin(split[1])]\\ne3 = events[events.SUBJECT_ID.isin(split[2])]\\ne4 = events[events.SUBJECT_ID.isin(split[3])]\\ne5 = events[events.SUBJECT_ID.isin(split[4])]\\ne6 = events[events.SUBJECT_ID.isin(split[5])]\\ne7 = events[events.SUBJECT_ID.isin(split[6])]\\ne8 = events[events.SUBJECT_ID.isin(split[7])]\\ne9 = events[events.SUBJECT_ID.isin(split[8])]\\ne10 = events[events.SUBJECT_ID.isin(split[9])]'"
      ]
     },
     "execution_count": 15,
     "metadata": {},
     "output_type": "execute_result"
    }
   ],
   "source": [
    "# Splitting events since my computer does not have enough memory to perform one hot encoding on entire events dataframe \n",
    "split = np.array_split(events.SUBJECT_ID.unique(), 10)\n",
    "\n",
    "e1 = events[events.SUBJECT_ID.isin(split[0])]\n",
    "e2 = events[events.SUBJECT_ID.isin(split[1])]\n",
    "e3 = events[events.SUBJECT_ID.isin(split[2])]\n",
    "e4 = events[events.SUBJECT_ID.isin(split[3])]\n",
    "e5 = events[events.SUBJECT_ID.isin(split[4])]\n",
    "e6 = events[events.SUBJECT_ID.isin(split[5])]\n",
    "e7 = events[events.SUBJECT_ID.isin(split[6])]\n",
    "e8 = events[events.SUBJECT_ID.isin(split[7])]\n",
    "e9 = events[events.SUBJECT_ID.isin(split[8])]\n",
    "e10 = events[events.SUBJECT_ID.isin(split[9])]"
   ]
  },
  {
   "cell_type": "markdown",
   "id": "c2dcd75d-cfa5-4526-9522-6e462ea8e80e",
   "metadata": {
    "tags": []
   },
   "source": [
    "### Process encounter vectors per https://github.com/EpistasisLab/MIMIC_trajectories/blob/master/ProcessEncounterVectors.ipynb."
   ]
  },
  {
   "cell_type": "code",
   "execution_count": 17,
   "id": "95f6ab58-d1c4-466e-aa64-304ad38edf3b",
   "metadata": {},
   "outputs": [],
   "source": [
    "def encode_encounters(events):\n",
    "    index_lists = [events.SUBJECT_ID.tolist(), events.HADM_ID.tolist(), events.EID.tolist()]\n",
    "\n",
    "    tuples = list(zip(*index_lists))\n",
    "    index = pd.MultiIndex.from_tuples(tuples, names=['SUBJECT_ID', 'HADM_ID', 'EID'])\n",
    "\n",
    "    encounters = pd.DataFrame()\n",
    "    \n",
    "    # Find how long a patient survived after being admitted to the ICU\n",
    "    encounters['SURVIVAL'] = (pd.to_datetime(events['DOD']).dt.date - pd.to_datetime(events['ADMITTIME']).dt.date).dt.days\n",
    "    \n",
    "    # Create label for whther patient survived more than 1 year after being admitted\n",
    "    encounters['1YEAR'] = 0\n",
    "    encounters.loc[(encounters['SURVIVAL'] > 0) & (encounters['SURVIVAL'] < 366), '1YEAR'] = 1\n",
    "    \n",
    "    # Drop survival column\n",
    "    encounters = encoutners.drop('SURVIVAL', axis='columns')\n",
    "\n",
    "    # Dates - ADMITTIME, DISCHTIME, DEATHTIME, DOB, DOD, DOD_HOSP, DOD_SSN\n",
    "    events['ADMITTIME'] = pd.to_datetime(events['ADMITTIME']).dt.date\n",
    "    events['DOB'] = pd.to_datetime(events['DOB']).dt.date\n",
    "    encounters['AGE'] = events.apply(lambda e: (e['ADMITTIME'] - e['DOB']).days, axis=1)\n",
    "\n",
    "    encounters = pd.concat([encounters,\n",
    "                            pd.get_dummies(events['GENDER'])['M'],\n",
    "                            pd.get_dummies(events['INSURANCE']),\n",
    "                            pd.get_dummies(events['ETHNICITY']),\n",
    "                            pd.get_dummies(events['LABEL'])\n",
    "                           ],\n",
    "                           axis=1)\n",
    "    encounters.set_index(index, inplace=True)\n",
    "    \n",
    "    return encounters"
   ]
  },
  {
   "cell_type": "code",
   "execution_count": 21,
   "id": "312dd930-152d-449e-a9e2-e207f8f55f3f",
   "metadata": {},
   "outputs": [
    {
     "name": "stderr",
     "output_type": "stream",
     "text": [
      "C:\\Users\\Greg\\anaconda3\\envs\\mlenv\\lib\\site-packages\\ipykernel_launcher.py:13: SettingWithCopyWarning: \n",
      "A value is trying to be set on a copy of a slice from a DataFrame.\n",
      "Try using .loc[row_indexer,col_indexer] = value instead\n",
      "\n",
      "See the caveats in the documentation: https://pandas.pydata.org/pandas-docs/stable/user_guide/indexing.html#returning-a-view-versus-a-copy\n",
      "  del sys.path[0]\n",
      "C:\\Users\\Greg\\anaconda3\\envs\\mlenv\\lib\\site-packages\\ipykernel_launcher.py:14: SettingWithCopyWarning: \n",
      "A value is trying to be set on a copy of a slice from a DataFrame.\n",
      "Try using .loc[row_indexer,col_indexer] = value instead\n",
      "\n",
      "See the caveats in the documentation: https://pandas.pydata.org/pandas-docs/stable/user_guide/indexing.html#returning-a-view-versus-a-copy\n",
      "  \n"
     ]
    }
   ],
   "source": [
    "# Get the first 10th of the encoutners table\n",
    "encounters_1 = encode_encounters(e1)\n",
    "encounters_1 = encounters_1.reset_index()"
   ]
  },
  {
   "cell_type": "code",
   "execution_count": 19,
   "id": "1a28137e-2e99-49f2-9d25-442e0c5a9f54",
   "metadata": {},
   "outputs": [
    {
     "name": "stderr",
     "output_type": "stream",
     "text": [
      "C:\\Users\\Greg\\anaconda3\\envs\\mlenv\\lib\\site-packages\\ipykernel_launcher.py:13: SettingWithCopyWarning: \n",
      "A value is trying to be set on a copy of a slice from a DataFrame.\n",
      "Try using .loc[row_indexer,col_indexer] = value instead\n",
      "\n",
      "See the caveats in the documentation: https://pandas.pydata.org/pandas-docs/stable/user_guide/indexing.html#returning-a-view-versus-a-copy\n",
      "  del sys.path[0]\n",
      "C:\\Users\\Greg\\anaconda3\\envs\\mlenv\\lib\\site-packages\\ipykernel_launcher.py:14: SettingWithCopyWarning: \n",
      "A value is trying to be set on a copy of a slice from a DataFrame.\n",
      "Try using .loc[row_indexer,col_indexer] = value instead\n",
      "\n",
      "See the caveats in the documentation: https://pandas.pydata.org/pandas-docs/stable/user_guide/indexing.html#returning-a-view-versus-a-copy\n",
      "  \n"
     ]
    },
    {
     "ename": "TypeError",
     "evalue": "'DataFrame' object is not callable",
     "output_type": "error",
     "traceback": [
      "\u001b[1;31m---------------------------------------------------------------------------\u001b[0m",
      "\u001b[1;31mTypeError\u001b[0m                                 Traceback (most recent call last)",
      "\u001b[1;32m<ipython-input-19-9519fff97f58>\u001b[0m in \u001b[0;36m<module>\u001b[1;34m\u001b[0m\n\u001b[0;32m     14\u001b[0m     gc.collect()\"\"\"\n\u001b[0;32m     15\u001b[0m \u001b[1;33m\u001b[0m\u001b[0m\n\u001b[1;32m---> 16\u001b[1;33m     \u001b[0mencounters_1\u001b[0m \u001b[1;33m=\u001b[0m \u001b[0mf1\u001b[0m\u001b[1;33m.\u001b[0m\u001b[0mresult\u001b[0m\u001b[1;33m(\u001b[0m\u001b[1;33m)\u001b[0m\u001b[1;33m\u001b[0m\u001b[1;33m\u001b[0m\u001b[0m\n\u001b[0m\u001b[0;32m     17\u001b[0m     \"\"\"encounters_2 = f2.result()\n\u001b[0;32m     18\u001b[0m     \u001b[0mencounters_3\u001b[0m \u001b[1;33m=\u001b[0m \u001b[0mf3\u001b[0m\u001b[1;33m.\u001b[0m\u001b[0mresult\u001b[0m\u001b[1;33m(\u001b[0m\u001b[1;33m)\u001b[0m\u001b[1;33m\u001b[0m\u001b[1;33m\u001b[0m\u001b[0m\n",
      "\u001b[1;32m~\\anaconda3\\envs\\mlenv\\lib\\concurrent\\futures\\_base.py\u001b[0m in \u001b[0;36mresult\u001b[1;34m(self, timeout)\u001b[0m\n\u001b[0;32m    426\u001b[0m                 \u001b[1;32mraise\u001b[0m \u001b[0mCancelledError\u001b[0m\u001b[1;33m(\u001b[0m\u001b[1;33m)\u001b[0m\u001b[1;33m\u001b[0m\u001b[1;33m\u001b[0m\u001b[0m\n\u001b[0;32m    427\u001b[0m             \u001b[1;32melif\u001b[0m \u001b[0mself\u001b[0m\u001b[1;33m.\u001b[0m\u001b[0m_state\u001b[0m \u001b[1;33m==\u001b[0m \u001b[0mFINISHED\u001b[0m\u001b[1;33m:\u001b[0m\u001b[1;33m\u001b[0m\u001b[1;33m\u001b[0m\u001b[0m\n\u001b[1;32m--> 428\u001b[1;33m                 \u001b[1;32mreturn\u001b[0m \u001b[0mself\u001b[0m\u001b[1;33m.\u001b[0m\u001b[0m__get_result\u001b[0m\u001b[1;33m(\u001b[0m\u001b[1;33m)\u001b[0m\u001b[1;33m\u001b[0m\u001b[1;33m\u001b[0m\u001b[0m\n\u001b[0m\u001b[0;32m    429\u001b[0m \u001b[1;33m\u001b[0m\u001b[0m\n\u001b[0;32m    430\u001b[0m             \u001b[0mself\u001b[0m\u001b[1;33m.\u001b[0m\u001b[0m_condition\u001b[0m\u001b[1;33m.\u001b[0m\u001b[0mwait\u001b[0m\u001b[1;33m(\u001b[0m\u001b[0mtimeout\u001b[0m\u001b[1;33m)\u001b[0m\u001b[1;33m\u001b[0m\u001b[1;33m\u001b[0m\u001b[0m\n",
      "\u001b[1;32m~\\anaconda3\\envs\\mlenv\\lib\\concurrent\\futures\\_base.py\u001b[0m in \u001b[0;36m__get_result\u001b[1;34m(self)\u001b[0m\n\u001b[0;32m    382\u001b[0m     \u001b[1;32mdef\u001b[0m \u001b[0m__get_result\u001b[0m\u001b[1;33m(\u001b[0m\u001b[0mself\u001b[0m\u001b[1;33m)\u001b[0m\u001b[1;33m:\u001b[0m\u001b[1;33m\u001b[0m\u001b[1;33m\u001b[0m\u001b[0m\n\u001b[0;32m    383\u001b[0m         \u001b[1;32mif\u001b[0m \u001b[0mself\u001b[0m\u001b[1;33m.\u001b[0m\u001b[0m_exception\u001b[0m\u001b[1;33m:\u001b[0m\u001b[1;33m\u001b[0m\u001b[1;33m\u001b[0m\u001b[0m\n\u001b[1;32m--> 384\u001b[1;33m             \u001b[1;32mraise\u001b[0m \u001b[0mself\u001b[0m\u001b[1;33m.\u001b[0m\u001b[0m_exception\u001b[0m\u001b[1;33m\u001b[0m\u001b[1;33m\u001b[0m\u001b[0m\n\u001b[0m\u001b[0;32m    385\u001b[0m         \u001b[1;32melse\u001b[0m\u001b[1;33m:\u001b[0m\u001b[1;33m\u001b[0m\u001b[1;33m\u001b[0m\u001b[0m\n\u001b[0;32m    386\u001b[0m             \u001b[1;32mreturn\u001b[0m \u001b[0mself\u001b[0m\u001b[1;33m.\u001b[0m\u001b[0m_result\u001b[0m\u001b[1;33m\u001b[0m\u001b[1;33m\u001b[0m\u001b[0m\n",
      "\u001b[1;32m~\\anaconda3\\envs\\mlenv\\lib\\concurrent\\futures\\thread.py\u001b[0m in \u001b[0;36mrun\u001b[1;34m(self)\u001b[0m\n\u001b[0;32m     55\u001b[0m \u001b[1;33m\u001b[0m\u001b[0m\n\u001b[0;32m     56\u001b[0m         \u001b[1;32mtry\u001b[0m\u001b[1;33m:\u001b[0m\u001b[1;33m\u001b[0m\u001b[1;33m\u001b[0m\u001b[0m\n\u001b[1;32m---> 57\u001b[1;33m             \u001b[0mresult\u001b[0m \u001b[1;33m=\u001b[0m \u001b[0mself\u001b[0m\u001b[1;33m.\u001b[0m\u001b[0mfn\u001b[0m\u001b[1;33m(\u001b[0m\u001b[1;33m*\u001b[0m\u001b[0mself\u001b[0m\u001b[1;33m.\u001b[0m\u001b[0margs\u001b[0m\u001b[1;33m,\u001b[0m \u001b[1;33m**\u001b[0m\u001b[0mself\u001b[0m\u001b[1;33m.\u001b[0m\u001b[0mkwargs\u001b[0m\u001b[1;33m)\u001b[0m\u001b[1;33m\u001b[0m\u001b[1;33m\u001b[0m\u001b[0m\n\u001b[0m\u001b[0;32m     58\u001b[0m         \u001b[1;32mexcept\u001b[0m \u001b[0mBaseException\u001b[0m \u001b[1;32mas\u001b[0m \u001b[0mexc\u001b[0m\u001b[1;33m:\u001b[0m\u001b[1;33m\u001b[0m\u001b[1;33m\u001b[0m\u001b[0m\n\u001b[0;32m     59\u001b[0m             \u001b[0mself\u001b[0m\u001b[1;33m.\u001b[0m\u001b[0mfuture\u001b[0m\u001b[1;33m.\u001b[0m\u001b[0mset_exception\u001b[0m\u001b[1;33m(\u001b[0m\u001b[0mexc\u001b[0m\u001b[1;33m)\u001b[0m\u001b[1;33m\u001b[0m\u001b[1;33m\u001b[0m\u001b[0m\n",
      "\u001b[1;31mTypeError\u001b[0m: 'DataFrame' object is not callable"
     ]
    }
   ],
   "source": [
    "# Split encounters into chunks and save to file\n",
    "with concurrent.futures.ThreadPoolExecutor() as executor:\n",
    "    f1 = executor.submit(encode_encounters(e1))\n",
    "    f2 = executor.submit(encode_encounters(e2))\n",
    "    f3 = executor.submit(encode_encounters(e3))\n",
    "    f4 = executor.submit(encode_encounters(e4))\n",
    "    f5 = executor.submit(encode_encounters(e5))\n",
    "    f6 = executor.submit(encode_encounters(e6))\n",
    "    f7 = executor.submit(encode_encounters(e7))\n",
    "    f8 = executor.submit(encode_encounters(e8))\n",
    "    f9 = executor.submit(encode_encounters(e9))\n",
    "    f10 = executor.submit(encode_encounters(e10))\n",
    "    \n",
    "    # Dealocate and garbage collect \n",
    "    del e1, e2, e3, e4, e5, e6, e7, e8, e9, e10\n",
    "    gc.collect()\n",
    "    \n",
    "    encounters_1 = f1.result()\n",
    "    encounters_2 = f2.result()\n",
    "    encounters_3 = f3.result()\n",
    "    encounters_4 = f4.result()\n",
    "    encounters_5 = f5.result()\n",
    "    encounters_6 = f6.result()\n",
    "    encounters_7 = f7.result()\n",
    "    encounters_8 = f8.result()\n",
    "    encounters_9 = f9.result()\n",
    "    encounters_10 = f10.result()"
   ]
  },
  {
   "cell_type": "code",
   "execution_count": 6,
   "id": "75d9cfab-db52-4b93-9008-06674d85dc2c",
   "metadata": {},
   "outputs": [],
   "source": [
    "encounters.to_csv('./Data/Processed/All_Data/encounters_1.csv', index=False)\n",
    "#cols = list(pd.read_csv(\"./Data/Processed/All_Data/encounters_1b.csv\", nrows=1))\n",
    "#encounters = pd.read_csv('./Data/Processed/All_Data/encounters_1b.csv', engine='c', usecols =[i for i in cols if i != 'SURVIVAL'], dtype='int')"
   ]
  },
  {
   "cell_type": "code",
   "execution_count": 9,
   "id": "b77a799d-8812-4bcc-b032-dc0bc25b8d5b",
   "metadata": {},
   "outputs": [],
   "source": [
    "# Combine rows with duplicate encounter ids (EIDs) such that one row shows all events that happend in that encounter, \n",
    "# by grouping by HADM_ID and Encounter ID (EID) and seeing if any group in the row is true. If any value is true,\n",
    "# then make the grouped value true. This should put a 1 under any event type that happend in the encounter\n",
    "# timeframe \n",
    "#encounters_agg = e.groupby(['SUBJECT_ID','SURVIVAL', 'AGE', 'M', 'HADM_ID', 'EID'])[e.columns[6:]].any().astype('int')\n",
    "encounters_agg = encounters.groupby(['SUBJECT_ID','1YEAR', 'AGE', 'M', 'HADM_ID', 'EID']).any().astype('int')"
   ]
  },
  {
   "cell_type": "code",
   "execution_count": 10,
   "id": "a5129bc6-7adc-4128-92ef-b25167f499d1",
   "metadata": {},
   "outputs": [],
   "source": [
    "encounters_agg = encounters_agg.reset_index()"
   ]
  },
  {
   "cell_type": "code",
   "execution_count": 11,
   "id": "72c56fc9-0760-408c-91f1-95ca296f5462",
   "metadata": {},
   "outputs": [],
   "source": [
    "encounters_agg.to_csv('./Data/Processed/All_Data/encounters_agg.csv')"
   ]
  },
  {
   "cell_type": "code",
   "execution_count": 13,
   "id": "6307e36a-9179-48ce-bce0-bcae4305a150",
   "metadata": {
    "scrolled": true
   },
   "outputs": [],
   "source": [
    "encounters_agg.to_hdf('./Data/Processed/All_Data/encounters_agg.h5', 'encounters')"
   ]
  },
  {
   "cell_type": "code",
   "execution_count": 274,
   "id": "8d89f84a-153a-4f2c-82a0-5c076d9493db",
   "metadata": {},
   "outputs": [],
   "source": [
    "encounters = pd.read_hdf('./Data/Processed/All_Data/encounters_agg.h5', 'encounters')"
   ]
  },
  {
   "cell_type": "code",
   "execution_count": 275,
   "id": "ab4b0734-9360-4e00-8f64-6a85451ec92e",
   "metadata": {},
   "outputs": [
    {
     "data": {
      "text/plain": [
       "count    7788.000000\n",
       "mean       71.781587\n",
       "std       127.334238\n",
       "min         1.000000\n",
       "25%        18.000000\n",
       "50%        34.000000\n",
       "75%        70.000000\n",
       "max      2624.000000\n",
       "dtype: float64"
      ]
     },
     "execution_count": 275,
     "metadata": {},
     "output_type": "execute_result"
    }
   ],
   "source": [
    "# Review the number of care events per admission\n",
    "encounters.groupby('HADM_ID').size().describe()"
   ]
  },
  {
   "cell_type": "code",
   "execution_count": 281,
   "id": "629fa63e-1ba7-4302-bb9f-26849e5e64d4",
   "metadata": {},
   "outputs": [
    {
     "data": {
      "text/plain": [
       "''"
      ]
     },
     "execution_count": 281,
     "metadata": {},
     "output_type": "execute_result"
    },
    {
     "data": {
      "image/png": "[encoded data removed]",
      "text/plain": [
       "<Figure size 432x432 with 1 Axes>"
      ]
     },
     "metadata": {},
     "output_type": "display_data"
    }
   ],
   "source": [
    "fig, ax = plt.subplots(figsize=(6,6))\n",
    "plt.hist(encounters.groupby('HADM_ID').size(), bins=50, log=True, color='black')\n",
    "plt.grid(axis='x')\n",
    "plt.xticks(np.arange(0,2600,400),fontsize=16)\n",
    "plt.yticks(fontsize=16)\n",
    "plt.xlabel('Number of Care Events per Admission', fontsize=16)\n",
    "plt.ylabel('Number of Admissions', fontsize=16)\n",
    ";"
   ]
  }
 ],
 "metadata": {
  "kernelspec": {
   "display_name": "Python 3",
   "language": "python",
   "name": "python3"
  },
  "language_info": {
   "codemirror_mode": {
    "name": "ipython",
    "version": 3
   },
   "file_extension": ".py",
   "mimetype": "text/x-python",
   "name": "python",
   "nbconvert_exporter": "python",
   "pygments_lexer": "ipython3",
   "version": "3.7.10"
  }
 },
 "nbformat": 4,
 "nbformat_minor": 5
}
